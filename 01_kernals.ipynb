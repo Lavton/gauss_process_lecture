{
 "cells": [
  {
   "cell_type": "code",
   "execution_count": null,
   "metadata": {},
   "outputs": [],
   "source": [
    "from __future__ import print_function\n",
    "\n",
    "import numpy as np\n",
    "from matplotlib import pyplot as plt\n",
    "import GPy"
   ]
  },
  {
   "cell_type": "markdown",
   "metadata": {},
   "source": [
    "`\n",
    "pip3 install Gpy\n",
    "pip3 install ipywidgets\n",
    "`"
   ]
  },
  {
   "cell_type": "markdown",
   "metadata": {},
   "source": [
    "in case of python 3.7 error while installing\n",
    "\n",
    "\n",
    "`git clone https://github.com/SheffieldML/GPy\n",
    "find Gpy -name '*.pyx' -exec cython {} \\;\n",
    "pip3 install Gpy/`\n",
    "\n",
    "https://github.com/SheffieldML/GPy/issues/649"
   ]
  },
  {
   "cell_type": "code",
   "execution_count": null,
   "metadata": {},
   "outputs": [],
   "source": [
    "from ipywidgets import interact, interactive, widgets, fixed\n",
    "try:\n",
    "    from ipywidgets import Layout\n",
    "except:\n",
    "    pass"
   ]
  },
  {
   "cell_type": "markdown",
   "metadata": {},
   "source": [
    "Посмотрим, как зависит от параметров генерация параметров при ядре RBF (Radial basis function)"
   ]
  },
  {
   "cell_type": "code",
   "execution_count": null,
   "metadata": {},
   "outputs": [],
   "source": [
    "@interact(lengthscale=(0.01,1.0), variance=(0.01, 50))\n",
    "def rbf_kernel_params(lengthscale = 0.5, variance=0.5):\n",
    "    k = GPy.kern.RBF(1, lengthscale=lengthscale, variance=variance)\n",
    "\n",
    "    X = np.linspace(0, 5, 500).reshape(-1, 1)\n",
    "\n",
    "    mu = np.zeros(500)\n",
    "    C = k.K(X, X)\n",
    "\n",
    "    Z = np.random.multivariate_normal(mu, C, 3)\n",
    "\n",
    "    plt.figure()\n",
    "    for i in range(3):\n",
    "        plt.plot(X, Z[i, :])\n",
    "    plt.ylim((-8,8))\n"
   ]
  },
  {
   "cell_type": "markdown",
   "metadata": {},
   "source": [
    "Как мы можем создавать ядра?"
   ]
  },
  {
   "cell_type": "code",
   "execution_count": null,
   "metadata": {},
   "outputs": [],
   "source": [
    "def plot_K(k, ax):\n",
    "    X = np.linspace(-5, 5, 500).reshape(-1, 1)\n",
    "\n",
    "    mu = np.zeros(500)\n",
    "    C = k.K(X, X)\n",
    "\n",
    "    Z = np.random.multivariate_normal(mu, C, 3)\n",
    "\n",
    "    for i in range(3):\n",
    "        ax.plot(X, Z[i, :])\n",
    "    ax.set_title(k.name)\n",
    "\n",
    "def plot_2(k):\n",
    "    figure, axes = plt.subplots(2, 1, figsize=(9, 9))\n",
    "    axes = axes.ravel()\n",
    "    plot_K(k, axes[1])\n",
    "    axes[1].set_xlim(left=0, right=5)\n",
    "    \n",
    "    k.plot(ax=axes[0])\n",
    "    axes[0].set_xlim(left=0, right=5)"
   ]
  },
  {
   "cell_type": "markdown",
   "metadata": {},
   "source": [
    "суммирование ядер"
   ]
  },
  {
   "cell_type": "code",
   "execution_count": null,
   "metadata": {
    "scrolled": false
   },
   "outputs": [],
   "source": [
    "kerns = [\"RBF\", \"Poly\", \"StdPeriodic\", \"Linear\", \"Bias\"]\n",
    "@interact(kern_1 = kerns, kern_2 = kerns, weight=(0,1.0))\n",
    "def sum_kernels(kern_1=\"RBF\", kern_2=\"Poly\", weight=1.0):\n",
    "    if kern_1 == \"RBF\":\n",
    "        f_kern = GPy.kern.RBF(1)\n",
    "    if kern_1 == \"Poly\":\n",
    "        f_kern = GPy.kern.Bias(1, 0.01)*GPy.kern.Poly(1)\n",
    "    if kern_1 == \"StdPeriodic\":\n",
    "        f_kern = GPy.kern.StdPeriodic(1)\n",
    "    if kern_1 == \"Linear\":\n",
    "        f_kern = GPy.kern.Linear(1)\n",
    "    if kern_1 == \"Bias\":\n",
    "        f_kern = GPy.kern.Bias(1)\n",
    "    \n",
    "    if kern_2 == \"RBF\":\n",
    "        s_kern = GPy.kern.RBF(1)\n",
    "    if kern_2 == \"Poly\":\n",
    "        s_kern = GPy.kern.Bias(1, 0.01)*GPy.kern.Poly(1)\n",
    "    if kern_2 == \"StdPeriodic\":\n",
    "        s_kern = GPy.kern.StdPeriodic(1)\n",
    "    if kern_2 == \"Linear\":\n",
    "        s_kern = GPy.kern.Linear(1)\n",
    "    if kern_2 == \"Bias\":\n",
    "        s_kern = GPy.kern.Bias(1)\n",
    "        \n",
    "    new_kern = GPy.kern.Bias(1, weight)*f_kern + GPy.kern.Bias(1, 1-weight)*s_kern\n",
    "    plot_2(new_kern)"
   ]
  },
  {
   "cell_type": "markdown",
   "metadata": {},
   "source": [
    "произведение ядер"
   ]
  },
  {
   "cell_type": "code",
   "execution_count": null,
   "metadata": {},
   "outputs": [],
   "source": [
    "kerns = [\"RBF\", \"Poly\", \"StdPeriodic\", \"Linear\", \"Bias\"]\n",
    "@interact(kern_1 = kerns, kern_2 = kerns)\n",
    "def product_kernels(kern_1=\"RBF\", kern_2=\"Poly\"):\n",
    "    if kern_1 == \"RBF\":\n",
    "        f_kern = GPy.kern.RBF(1)\n",
    "    if kern_1 == \"Poly\":\n",
    "        f_kern = GPy.kern.Bias(1, 0.01)*GPy.kern.Poly(1)\n",
    "    if kern_1 == \"StdPeriodic\":\n",
    "        f_kern = GPy.kern.StdPeriodic(1)\n",
    "    if kern_1 == \"Linear\":\n",
    "        f_kern = GPy.kern.Linear(1)\n",
    "    if kern_1 == \"Bias\":\n",
    "        f_kern = GPy.kern.Bias(1)\n",
    "    \n",
    "    if kern_2 == \"RBF\":\n",
    "        s_kern = GPy.kern.RBF(1)\n",
    "    if kern_2 == \"Poly\":\n",
    "        s_kern = GPy.kern.Bias(1, 0.01)*GPy.kern.Poly(1)\n",
    "    if kern_2 == \"StdPeriodic\":\n",
    "        s_kern = GPy.kern.StdPeriodic(1)\n",
    "    if kern_2 == \"Linear\":\n",
    "        s_kern = GPy.kern.Linear(1)\n",
    "    if kern_2 == \"Bias\":\n",
    "        s_kern = GPy.kern.Bias(1)\n",
    "        \n",
    "    new_kern = f_kern*s_kern\n",
    "    plot_2(new_kern)"
   ]
  },
  {
   "cell_type": "code",
   "execution_count": null,
   "metadata": {},
   "outputs": [],
   "source": []
  }
 ],
 "metadata": {
  "kernelspec": {
   "display_name": "Python 3",
   "language": "python",
   "name": "python3"
  },
  "language_info": {
   "codemirror_mode": {
    "name": "ipython",
    "version": 3
   },
   "file_extension": ".py",
   "mimetype": "text/x-python",
   "name": "python",
   "nbconvert_exporter": "python",
   "pygments_lexer": "ipython3",
   "version": "3.7.1"
  }
 },
 "nbformat": 4,
 "nbformat_minor": 2
}
