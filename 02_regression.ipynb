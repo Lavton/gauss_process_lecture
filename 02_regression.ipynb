{
 "cells": [
  {
   "cell_type": "code",
   "execution_count": null,
   "metadata": {},
   "outputs": [],
   "source": [
    "from __future__ import print_function\n",
    "\n",
    "import numpy as np\n",
    "from matplotlib import pyplot as plt\n",
    "import GPy"
   ]
  },
  {
   "cell_type": "markdown",
   "metadata": {},
   "source": [
    "`\n",
    "pip3 install Gpy\n",
    "pip3 install ipywidgets\n",
    "`"
   ]
  },
  {
   "cell_type": "markdown",
   "metadata": {},
   "source": [
    "in case of python 3.7 error while installing\n",
    "\n",
    "\n",
    "`git clone https://github.com/SheffieldML/GPy\n",
    "find Gpy -name '*.pyx' -exec cython {} \\;\n",
    "pip3 install Gpy/`\n",
    "\n",
    "https://github.com/SheffieldML/GPy/issues/649"
   ]
  },
  {
   "cell_type": "code",
   "execution_count": null,
   "metadata": {},
   "outputs": [],
   "source": [
    "from ipywidgets import interact, interactive, widgets, fixed\n",
    "try:\n",
    "    from ipywidgets import Layout\n",
    "except:\n",
    "    pass"
   ]
  },
  {
   "cell_type": "markdown",
   "metadata": {},
   "source": [
    "### глянем на функцию"
   ]
  },
  {
   "cell_type": "code",
   "execution_count": null,
   "metadata": {},
   "outputs": [],
   "source": [
    "N = 11\n",
    "X = np.linspace(-1.0, 1.0, N).reshape(-1, 1)\n",
    "Y = X**3 + np.sin(2*np.pi * X) - np.log(0.5+np.abs(X))\n",
    "plt.figure(figsize=(5, 3))\n",
    "plt.plot(X, Y, '.')"
   ]
  },
  {
   "cell_type": "code",
   "execution_count": null,
   "metadata": {},
   "outputs": [],
   "source": [
    "input_dim = 1\n",
    "variance = 5\n",
    "lengthscale = 0.01\n",
    "kernel = GPy.kern.RBF(input_dim, variance=variance,\n",
    "                      lengthscale=lengthscale)"
   ]
  },
  {
   "cell_type": "markdown",
   "metadata": {},
   "source": [
    "### строим модель, фиксируем шум"
   ]
  },
  {
   "cell_type": "code",
   "execution_count": null,
   "metadata": {},
   "outputs": [],
   "source": [
    "model = GPy.models.GPRegression(X, Y, kernel)\n",
    "model.Gaussian_noise.variance = 0.000001\n",
    "print(model)\n",
    "model.plot(figsize=(7, 5));"
   ]
  },
  {
   "cell_type": "markdown",
   "metadata": {},
   "source": [
    "## попробуйте подобрать оптимальные параметры"
   ]
  },
  {
   "cell_type": "code",
   "execution_count": null,
   "metadata": {},
   "outputs": [],
   "source": [
    "@interact(lengthscale=(0.01,1.0, 0.01), variance=(0.01, 5))\n",
    "def draw_model_with_params(lengthscale=lengthscale, variance=variance):\n",
    "    kernel = GPy.kern.RBF(input_dim, variance=variance,\n",
    "                      lengthscale=lengthscale)\n",
    "    model = GPy.models.GPRegression(X, Y, kernel)\n",
    "    model.Gaussian_noise.variance = 0.000001\n",
    "    model.plot(figsize=(7, 5));\n",
    "    plt.ylim(-2, 2)"
   ]
  },
  {
   "cell_type": "code",
   "execution_count": null,
   "metadata": {},
   "outputs": [],
   "source": []
  },
  {
   "cell_type": "markdown",
   "metadata": {},
   "source": [
    "## а какие параметры были б оптимальные?"
   ]
  },
  {
   "cell_type": "code",
   "execution_count": null,
   "metadata": {},
   "outputs": [],
   "source": [
    "model.optimize_restarts(verbose=False, num_restarts=10);\n",
    "print(model)\n",
    "model.plot(figsize=(7, 5));"
   ]
  },
  {
   "cell_type": "markdown",
   "metadata": {},
   "source": [
    "что тут плохого?\n",
    "<details>\n",
    "    <summary>Спойлер!</summary>\n",
    "    Оптимизация и по шуму тоже! Но у нас же шума нет!\n",
    "<br/>\n",
    "Попробуйте добавить следующие строчки в код ниже <br/>\n",
    "<code>model.Gaussian_noise.variance = 0.000001\n",
    "model.Gaussian_noise.variance.fix()</code>\n",
    "\n",
    "</details>"
   ]
  },
  {
   "cell_type": "code",
   "execution_count": null,
   "metadata": {},
   "outputs": [],
   "source": [
    "# вставьте код тут\n",
    "#\n",
    "model.optimize_restarts(verbose=False, num_restarts=10);\n",
    "# обратите внимание на количество оптимизируемых параметров\n",
    "print(model)\n",
    "model.plot(figsize=(7, 5));"
   ]
  },
  {
   "cell_type": "code",
   "execution_count": null,
   "metadata": {},
   "outputs": [],
   "source": []
  },
  {
   "cell_type": "code",
   "execution_count": null,
   "metadata": {},
   "outputs": [],
   "source": []
  },
  {
   "cell_type": "code",
   "execution_count": null,
   "metadata": {},
   "outputs": [],
   "source": []
  },
  {
   "cell_type": "code",
   "execution_count": null,
   "metadata": {},
   "outputs": [],
   "source": []
  },
  {
   "cell_type": "code",
   "execution_count": null,
   "metadata": {},
   "outputs": [],
   "source": []
  },
  {
   "cell_type": "code",
   "execution_count": null,
   "metadata": {},
   "outputs": [],
   "source": []
  },
  {
   "cell_type": "markdown",
   "metadata": {},
   "source": [
    "а что будет, если шум есть, но мы его зануляем?"
   ]
  },
  {
   "cell_type": "markdown",
   "metadata": {},
   "source": [
    "чтобы результат смотрелся более наглядно, построим большее число точек.\n",
    "\n",
    "Сначала посмотрим, как они выглядят без шума:"
   ]
  },
  {
   "cell_type": "code",
   "execution_count": null,
   "metadata": {},
   "outputs": [],
   "source": [
    "N = 50\n",
    "X = np.linspace(-1.0, 1.0, N).reshape(-1, 1)\n",
    "Y = X**3 + np.sin(2*np.pi * X) - np.log(0.5+np.abs(X)) + \\\n",
    "   np.random.normal(loc=0.0, scale=0.0, size=(N, 1))\n",
    "plt.figure(figsize=(5, 3))\n",
    "plt.plot(X, Y, '.')\n",
    "model = GPy.models.GPRegression(X, Y, kernel)\n",
    "model.Gaussian_noise.variance = 0.000001\n",
    "model.Gaussian_noise.variance.fix()\n",
    "model.optimize_restarts(verbose=False, num_restarts=10);\n",
    "print(model)\n",
    "model.plot(figsize=(7, 5));"
   ]
  },
  {
   "cell_type": "markdown",
   "metadata": {},
   "source": [
    "а теперь добавим шум!"
   ]
  },
  {
   "cell_type": "code",
   "execution_count": null,
   "metadata": {},
   "outputs": [],
   "source": [
    "N = 50\n",
    "X = np.linspace(-1.0, 1.0, N).reshape(-1, 1)\n",
    "Y = X**3 + np.sin(2*np.pi * X) - np.log(0.5+np.abs(X)) + \\\n",
    "   np.random.normal(loc=0.0, scale=0.2, size=(N, 1))\n",
    "plt.figure(figsize=(5, 3))\n",
    "plt.plot(X, Y, '.')"
   ]
  },
  {
   "cell_type": "code",
   "execution_count": null,
   "metadata": {},
   "outputs": [],
   "source": [
    "model = GPy.models.GPRegression(X, Y, kernel)\n",
    "model.Gaussian_noise.variance = 0.000001\n",
    "model.Gaussian_noise.variance.fix()\n",
    "model.optimize_restarts(verbose=False, num_restarts=10);\n",
    "print(model)\n",
    "model.plot(figsize=(7, 5));"
   ]
  },
  {
   "cell_type": "code",
   "execution_count": null,
   "metadata": {},
   "outputs": [],
   "source": [
    "model = GPy.models.GPRegression(X, Y, kernel)\n",
    "model.optimize_restarts(verbose=False, num_restarts=10);\n",
    "print(model)\n",
    "model.plot(figsize=(7, 5));"
   ]
  },
  {
   "cell_type": "code",
   "execution_count": null,
   "metadata": {},
   "outputs": [],
   "source": []
  }
 ],
 "metadata": {
  "kernelspec": {
   "display_name": "Python 3",
   "language": "python",
   "name": "python3"
  },
  "language_info": {
   "codemirror_mode": {
    "name": "ipython",
    "version": 3
   },
   "file_extension": ".py",
   "mimetype": "text/x-python",
   "name": "python",
   "nbconvert_exporter": "python",
   "pygments_lexer": "ipython3",
   "version": "3.7.1"
  }
 },
 "nbformat": 4,
 "nbformat_minor": 2
}
